{
  "cells": [
    {
      "cell_type": "code",
      "execution_count": null,
      "metadata": {
        "trusted": true
      },
      "outputs": [],
      "source": [
        "%pip install anywidget"
      ]
    },
    {
      "cell_type": "code",
      "execution_count": null,
      "metadata": {
        "trusted": true
      },
      "outputs": [],
      "source": [
        "import anywidget\n",
        "import traitlets\n",
        "\n",
        "class CounterWidget(anywidget.AnyWidget):\n",
        "    _esm = \"\"\"\n",
        "    function render({ model, el }) {\n",
        "      let getCount = () => model.get(\"count\");\n",
        "      let button = document.createElement(\"button\");\n",
        "      button.classList.add(\"counter-button\");\n",
        "      button.innerHTML = `count is ${getCount()}`;\n",
        "      button.addEventListener(\"click\", () => {\n",
        "        model.set(\"count\", getCount() + 1);\n",
        "        model.save_changes();\n",
        "      });\n",
        "      model.on(\"change:count\", () => {\n",
        "        button.innerHTML = `count is ${getCount()}`;\n",
        "      });\n",
        "      el.appendChild(button);\n",
        "    }\n",
        "\texport default { render };\n",
        "    \"\"\"\n",
        "    _css=\"\"\"\n",
        "    .counter-button { background-color: #ea580c; }\n",
        "    .counter-button:hover { background-color: #9a3412; }\n",
        "    \"\"\"\n",
        "    count = traitlets.Int(0).tag(sync=True)\n",
        "\n",
        "counter = CounterWidget()\n",
        "counter.count = 42\n",
        "counter"
      ]
    },
    {
      "cell_type": "code",
      "execution_count": null,
      "metadata": {
        "trusted": true
      },
      "outputs": [],
      "source": [
        "from pathlib import Path\n",
        "\n",
        "class CounterWidget(anywidget.AnyWidget):\n",
        "    _esm = Path('/drive/index.js')\n",
        "    _css= Path('/drive/index.css')\n",
        "    count = traitlets.Int(0).tag(sync=True)\n",
        "\n",
        "counter = CounterWidget()\n",
        "counter.count = 42\n",
        "counter"
      ]
    }
  ],
  "metadata": {
    "kernelspec": {
      "display_name": "Python (Pyodide)",
      "language": "python",
      "name": "python"
    },
    "language_info": {
      "codemirror_mode": {
        "name": "python",
        "version": 3
      },
      "file_extension": ".py",
      "mimetype": "text/x-python",
      "name": "python",
      "nbconvert_exporter": "python",
      "pygments_lexer": "ipython3",
      "version": "3.8"
    }
  },
  "nbformat": 4,
  "nbformat_minor": 4
}
