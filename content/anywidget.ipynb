{
  "cells": [
    {
      "cell_type": "markdown",
      "metadata": {},
      "source": [
        "# Create a Jupyter Widget with anywidget\n",
        "\n",
        "*This notebook is heavily inspired by the \"Getting Started\" guide on the anywidget documentation: https://anywidget.dev/en/getting-started/*\n",
        "\n",
        "## What is anywidget?\n",
        "\n",
        "**anywidget** is a Python library that simplifies creating and publishing\n",
        "custom [Jupyter Widgets](https://ipywidgets.readthedocs.io/en/latest/).\n",
        "No messy build configuration or complicated cookiecutter templates.\n",
        "\n",
        "It is <u>**not**</u> a new interactive widgets framework, but rather\n",
        "an abstraction for creating custom Jupyter Widgets using modern web standards.\n",
        "\n",
        "## Key features\n",
        "\n",
        "- 🛠️ Create widgets **without complicated cookiecutter templates**\n",
        "- 📚 **Publish to PyPI** like any other Python package\n",
        "- 🤖 Prototype **within** `.ipynb` or `.py` files\n",
        "- 🚀 Run in **Jupyter**, **JupyterLab**, **Google Colab**, **VSCode**, and more\n",
        "- ⚡ Develop with **instant HMR**, like modern web frameworks\n"
      ]
    },
    {
      "cell_type": "markdown",
      "metadata": {},
      "source": [
        "First you need to install `anywidget`:"
      ]
    },
    {
      "cell_type": "code",
      "execution_count": null,
      "metadata": {
        "trusted": true
      },
      "outputs": [],
      "source": [
        "%pip install anywidget"
      ]
    },
    {
      "cell_type": "markdown",
      "metadata": {},
      "source": [
        "Then you can define a new widget and provide the `count`, `_esm` and `_css` attributes."
      ]
    },
    {
      "cell_type": "code",
      "execution_count": null,
      "metadata": {
        "trusted": true
      },
      "outputs": [],
      "source": [
        "import anywidget\n",
        "import traitlets\n",
        "\n",
        "class CounterWidget(anywidget.AnyWidget):\n",
        "    _esm = \"\"\"\n",
        "    function render({ model, el }) {\n",
        "      let getCount = () => model.get(\"count\");\n",
        "      let button = document.createElement(\"button\");\n",
        "      button.classList.add(\"counter-button\");\n",
        "      button.innerHTML = `count is ${getCount()}`;\n",
        "      button.addEventListener(\"click\", () => {\n",
        "        model.set(\"count\", getCount() + 1);\n",
        "        model.save_changes();\n",
        "      });\n",
        "      model.on(\"change:count\", () => {\n",
        "        button.innerHTML = `count is ${getCount()}`;\n",
        "      });\n",
        "      el.appendChild(button);\n",
        "    }\n",
        "\texport default { render };\n",
        "    \"\"\"\n",
        "    _css=\"\"\"\n",
        "    .counter-button { background-color: #ea580c; }\n",
        "    .counter-button:hover { background-color: #9a3412; }\n",
        "    \"\"\"\n",
        "    count = traitlets.Int(0).tag(sync=True)\n",
        "\n",
        "counter = CounterWidget()\n",
        "counter.count = 42\n",
        "counter"
      ]
    },
    {
      "cell_type": "markdown",
      "metadata": {},
      "source": [
        "- `count` is a stateful property for that both the client JavaScript and Python have access to.\n",
        "  Shared state is defined via [traitlets](https://traitlets.readthedocs.io/en/stable/) with the `sync=True`\n",
        "  keyword argument.\n",
        "\n",
        "- `_esm` specifies a <u>**required**</u> [ECMAScript module](https://nodejs.org/api/esm.html) for the widget.\n",
        "  It defines and exports `render`, a function for rendering and initializes dynamic updates for the custom widget.\n",
        "\n",
        "- `_css` specifies an <u>**optional**</u> CSS stylesheet to load for the widget. It can be a full URL or plain text. Styles are loaded\n",
        "  in the global scope if using this feature, so take care to avoid naming conflicts.\n",
        "\n",
        "  Feel free to modify some of the code above and re-execute the cells to see the changes 🪄"
      ]
    },
    {
      "cell_type": "markdown",
      "metadata": {},
      "source": [
        "## Progressive Development\n",
        "\n",
        "As your widgets grow in complexity, it is recommended to separate your\n",
        "front-end code from your Python code. Just move the `_esm` and `_css`\n",
        "definitions to separate files and reference them via path."
      ]
    },
    {
      "cell_type": "code",
      "execution_count": null,
      "metadata": {
        "trusted": true
      },
      "outputs": [],
      "source": [
        "from pathlib import Path\n",
        "\n",
        "class CounterWidget(anywidget.AnyWidget):\n",
        "    _esm = Path('/drive/index.js')\n",
        "    _css= Path('/drive/index.css')\n",
        "    count = traitlets.Int(0).tag(sync=True)\n",
        "\n",
        "counter = CounterWidget()\n",
        "counter.count = 42\n",
        "counter"
      ]
    },
    {
      "cell_type": "markdown",
      "metadata": {},
      "source": [
        "**Note**: since this particular notebook is meant to be used in JupyterLite, we specify `/drive` as the prefix for finding the `.js` and `.css` files. `/drive` is the location of the underlying (in-browser) file system where JupyterLite expects to find the files, so they can be displayed in the file browser.\n",
        "\n",
        "You can now open `index.js` and `index.css` in JupyterLab and edit the files directly. After making changes, you will have to recreate the widget so they are applied."
      ]
    }
  ],
  "metadata": {
    "kernelspec": {
      "display_name": "Python (Pyodide)",
      "language": "python",
      "name": "python"
    },
    "language_info": {
      "codemirror_mode": {
        "name": "python",
        "version": 3
      },
      "file_extension": ".py",
      "mimetype": "text/x-python",
      "name": "python",
      "nbconvert_exporter": "python",
      "pygments_lexer": "ipython3",
      "version": "3.8"
    }
  },
  "nbformat": 4,
  "nbformat_minor": 4
}
